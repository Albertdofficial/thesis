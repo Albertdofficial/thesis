{
 "cells": [
  {
   "cell_type": "code",
   "execution_count": 3,
   "metadata": {},
   "outputs": [
    {
     "name": "stdout",
     "output_type": "stream",
     "text": [
      "Dataset split completed!\n"
     ]
    }
   ],
   "source": [
    "import os\n",
    "import shutil\n",
    "from sklearn.model_selection import train_test_split\n",
    "\n",
    "# Paths\n",
    "DATASET_DIR = \"./dataset/\"\n",
    "IMAGE_DIR = os.path.join(DATASET_DIR, \"images\")\n",
    "MASK_DIR = os.path.join(DATASET_DIR, \"masks\")\n",
    "OUTPUT_DIR = \"./CrackDataset/\"\n",
    "\n",
    "# Create split folders\n",
    "for split in [\"train\", \"val\", \"test\"]:\n",
    "    os.makedirs(os.path.join(OUTPUT_DIR, split, \"images\"), exist_ok=True)\n",
    "    os.makedirs(os.path.join(OUTPUT_DIR, split, \"masks\"), exist_ok=True)\n",
    "\n",
    "# Get all image and mask files\n",
    "image_files = sorted(os.listdir(IMAGE_DIR))\n",
    "mask_files = sorted(os.listdir(MASK_DIR))\n",
    "\n",
    "# Split into train, val, test\n",
    "train_images, test_images, train_masks, test_masks = train_test_split(image_files, mask_files, test_size=0.05, random_state=2024)\n",
    "\n",
    "\n",
    "# Function to copy files\n",
    "def copy_files(files, src_dir, dest_dir):\n",
    "    for file in files:\n",
    "        shutil.copy(os.path.join(src_dir, file), os.path.join(dest_dir, file))\n",
    "\n",
    "# Copy files to split directories\n",
    "copy_files(train_images, IMAGE_DIR, os.path.join(OUTPUT_DIR, \"train/images\"))\n",
    "copy_files(train_masks, MASK_DIR, os.path.join(OUTPUT_DIR, \"train/masks\"))\n",
    "# copy_files(val_images, IMAGE_DIR, os.path.join(OUTPUT_DIR, \"val/images\"))\n",
    "# copy_files(val_masks, MASK_DIR, os.path.join(OUTPUT_DIR, \"val/masks\"))\n",
    "copy_files(test_images, IMAGE_DIR, os.path.join(OUTPUT_DIR, \"test/images\"))\n",
    "copy_files(test_masks, MASK_DIR, os.path.join(OUTPUT_DIR, \"test/masks\"))\n",
    "\n",
    "print(\"Dataset split completed!\")\n"
   ]
  }
 ],
 "metadata": {
  "kernelspec": {
   "display_name": "Python 3",
   "language": "python",
   "name": "python3"
  },
  "language_info": {
   "codemirror_mode": {
    "name": "ipython",
    "version": 3
   },
   "file_extension": ".py",
   "mimetype": "text/x-python",
   "name": "python",
   "nbconvert_exporter": "python",
   "pygments_lexer": "ipython3",
   "version": "3.12.4"
  }
 },
 "nbformat": 4,
 "nbformat_minor": 2
}
